{
  "nbformat": 4,
  "nbformat_minor": 0,
  "metadata": {
    "colab": {
      "provenance": [],
      "authorship_tag": "ABX9TyPO+gUuAjIHBGDl2+MJQ6b6",
      "include_colab_link": true
    },
    "kernelspec": {
      "name": "python3",
      "display_name": "Python 3"
    },
    "language_info": {
      "name": "python"
    }
  },
  "cells": [
    {
      "cell_type": "markdown",
      "metadata": {
        "id": "view-in-github",
        "colab_type": "text"
      },
      "source": [
        "<a href=\"https://colab.research.google.com/github/Pawarsnehal16/Fermi-Pico-Bagel/blob/main/Fermi_Pico_Bagel.ipynb\" target=\"_parent\"><img src=\"https://colab.research.google.com/assets/colab-badge.svg\" alt=\"Open In Colab\"/></a>"
      ]
    },
    {
      "cell_type": "code",
      "execution_count": 3,
      "metadata": {
        "colab": {
          "base_uri": "https://localhost:8080/"
        },
        "id": "X3v8Jjw4HmDA",
        "outputId": "455061b7-87cb-4657-c647-85fc5b9f40fe"
      },
      "outputs": [
        {
          "output_type": "stream",
          "name": "stdout",
          "text": [
            "Enter your guess: 123\n",
            "Bagel\n",
            "Enter your guess: 456\n",
            "Pico Pico\n",
            "Enter your guess: 457\n",
            "Pico\n",
            "Enter your guess: 568\n",
            "Pico Fermi Pico\n",
            "Enter your guess: 865\n",
            "Fermi Fermi Fermi  You win !!\n",
            "You Lose\n"
          ]
        }
      ],
      "source": [
        "import random\n",
        "\n",
        "original_number = ''.join(random.sample('0123456789', 3))\n",
        "\n",
        "\n",
        "for guess_number in range(1,7):\n",
        "    guess_number = input(\"Enter your guess: \")\n",
        "\n",
        "    output = []\n",
        "\n",
        "    if len(original_number) != len(guess_number):\n",
        "        print(\"Invalid input. Please enter a valid guess.\")\n",
        "        continue\n",
        "\n",
        "    if len(set(guess_number)) != len(guess_number):\n",
        "        print(\"Duplicate number\")\n",
        "        continue\n",
        "\n",
        "    if guess_number == original_number:\n",
        "        print(\"Fermi \" * len(guess_number), \"You win !!\")\n",
        "        break\n",
        "\n",
        "    for i in range(len(guess_number)):\n",
        "        if guess_number[i] == original_number[i]:\n",
        "            output.append('Fermi')\n",
        "        elif guess_number[i] in original_number:\n",
        "            output.append('Pico')\n",
        "\n",
        "    output_string = ' '.join(output)\n",
        "\n",
        "    if not output:\n",
        "        print(\"Bagel\")\n",
        "    else:\n",
        "        print(output_string)\n",
        "print('You Lose')"
      ]
    }
  ]
}